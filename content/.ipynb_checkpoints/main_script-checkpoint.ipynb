{
 "cells": [
  {
   "cell_type": "markdown",
   "id": "309b2ec2-ab55-4c86-b6d4-6d73d4d47d5c",
   "metadata": {},
   "source": [
    "# Garotinhas\n",
    "\n",
    "## Medidas Antropométricas\n",
    "\n",
    "O crescimento individual das crianças pode ter uma grande variação.\n",
    "\n",
    "Várias medidas de crescimento colocadas como pontos no gráfico ao longo do tempo e unidas entre si formam uma linha. Essa linha representa o crescimento da criança, ou seja, sua curva de crescimento, que sinaliza se a criança está crescendo adequadamente ou não."
   ]
  },
  {
   "cell_type": "code",
   "execution_count": null,
   "id": "dac397f3",
   "metadata": {
    "editable": true,
    "slideshow": {
     "slide_type": ""
    },
    "tags": [
     "remove-input"
    ]
   },
   "outputs": [],
   "source": [
    "import plotly.io as pio\n",
    "from datetime import date\n",
    "from data_processing import *\n",
    "\n",
    "#pio.renderers.default = \"notebook_connected\""
   ]
  },
  {
   "cell_type": "markdown",
   "id": "0bc19e57",
   "metadata": {},
   "source": [
    "### Peso para a idade"
   ]
  },
  {
   "cell_type": "code",
   "execution_count": null,
   "id": "97a8a108",
   "metadata": {
    "editable": true,
    "slideshow": {
     "slide_type": ""
    },
    "tags": [
     "remove-input"
    ]
   },
   "outputs": [],
   "source": [
    "plot_df(source['wfa_z'], description = 'Peso', months_to_plot=months_to_plot)"
   ]
  },
  {
   "cell_type": "markdown",
   "id": "858fa612",
   "metadata": {},
   "source": [
    "### Perímetro cefálico para a idade"
   ]
  },
  {
   "cell_type": "code",
   "execution_count": null,
   "id": "479193e5",
   "metadata": {
    "editable": true,
    "slideshow": {
     "slide_type": ""
    },
    "tags": [
     "remove-input"
    ]
   },
   "outputs": [],
   "source": [
    "plot_df(source['hcfa_z'], description = 'Perímetro Cefálico', months_to_plot=months_to_plot)"
   ]
  },
  {
   "cell_type": "markdown",
   "id": "f6b4b86b",
   "metadata": {},
   "source": [
    "### Estatura para a idade"
   ]
  },
  {
   "cell_type": "code",
   "execution_count": null,
   "id": "9c983ec4",
   "metadata": {
    "tags": [
     "remove-input"
    ]
   },
   "outputs": [],
   "source": [
    "plot_df(source['lfa_birth_z'], description = 'Estatura', months_to_plot=months_to_plot)"
   ]
  },
  {
   "cell_type": "markdown",
   "id": "e68e458e",
   "metadata": {},
   "source": [
    "## Registros\n",
    "\n",
    "### Maria"
   ]
  },
  {
   "cell_type": "code",
   "execution_count": null,
   "id": "e4590cbf",
   "metadata": {
    "tags": [
     "remove-input"
    ]
   },
   "outputs": [],
   "source": [
    "maria"
   ]
  },
  {
   "cell_type": "markdown",
   "id": "d640184f",
   "metadata": {},
   "source": [
    "### Sofia"
   ]
  },
  {
   "cell_type": "code",
   "execution_count": null,
   "id": "b8466b43",
   "metadata": {
    "editable": true,
    "slideshow": {
     "slide_type": ""
    },
    "tags": [
     "remove-input"
    ]
   },
   "outputs": [],
   "source": [
    "sofia"
   ]
  },
  {
   "cell_type": "code",
   "execution_count": null,
   "id": "0952c335-4ab9-4054-88de-f90fee4d32e5",
   "metadata": {},
   "outputs": [],
   "source": []
  }
 ],
 "metadata": {
  "kernelspec": {
   "display_name": "",
   "name": ""
  },
  "language_info": {
   "codemirror_mode": {
    "name": "ipython",
    "version": 3
   },
   "file_extension": ".py",
   "mimetype": "text/x-python",
   "name": "python",
   "nbconvert_exporter": "python",
   "pygments_lexer": "ipython3",
   "version": "3.12.7"
  }
 },
 "nbformat": 4,
 "nbformat_minor": 5
}
